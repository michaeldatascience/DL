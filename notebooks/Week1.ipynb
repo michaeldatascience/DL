{
 "cells": [
  {
   "cell_type": "markdown",
   "id": "2cadf0a0",
   "metadata": {},
   "source": [
    "## Mathematical Model of a Neuron\n",
    "Inputs: $$x_1, x_2, \\ldots, x_n$$  \n",
    "Weights: $$w_1, w_2, \\ldots, w_n$$\n",
    "Bias: $$b$$\n",
    "Score (Activation): $w \\cdot x + b$\n",
    "Decision Function:\n",
    "$$\n",
    "f(x) = \\begin{cases}\n",
    "+1 & \\text{if } w \\cdot x + b > 0 \\\\\n",
    "-1 & \\text{if } w \\cdot x + b \\leq 0\n",
    "\\end{cases}\n",
    "$$\n",
    "$ w \\cdot x = \\sum_i w_i x_i$"
   ]
  },
  {
   "cell_type": "markdown",
   "id": "a15bad76",
   "metadata": {},
   "source": [
    "## About misclassification\n",
    "\n",
    "A point is misclassified if:\n",
    "$$ x \\cdot w + b \\le 0 $$\n",
    "\n",
    "y is true label, in \\{-1, +1\\}$\n",
    "\n",
    "If misclassified, goal is to increase y s.t it becomes positive:"
   ]
  },
  {
   "cell_type": "markdown",
   "id": "8335520f",
   "metadata": {},
   "source": [
    "#  Perceptron vs McCulloch-Pitts (MP) Neuron\n",
    "\n",
    "### MP Neuron\n",
    "\n",
    "- Inputs: Only **binary** (0 or 1).\n",
    "- Weights: Fixed; no learning.\n",
    "- Output: 0 or 1 (binary).\n",
    "- Used mainly to model simple logic gates (AND, OR).\n",
    "\n",
    "---\n",
    "\n",
    "### Perceptron\n",
    "\n",
    "- Inputs: Can be **real-valued** (continuous).\n",
    "- Weights: **Learned** via update rule.\n",
    "- Output: Usually +1 or -1.\n",
    "- Used to model linearly separable patterns, supports learning from data.\n",
    "\n",
    "---\n",
    "\n",
    "### Key difference\n",
    "\n",
    "MP neuron = fixed logic unit (no training).\n",
    "\n",
    "Perceptron = adaptive learning unit (weights & bias adjust to data)."
   ]
  },
  {
   "cell_type": "markdown",
   "id": "e4cfc2ca",
   "metadata": {},
   "source": [
    "## Perceptron Update Rule\n",
    "$$\n",
    "w` = w + \\eta y x\n",
    "$$\n",
    "\n",
    "$$\n",
    "b` = b + \\eta y\n",
    "$$\n",
    "\n",
    "here $\\eta$ is the learning rate usually 1, $y$ is the true label, and $x$ is the input vector.\n",
    "\n",
    "After Update:\n",
    "$$\n",
    "y (w' \\cdot x + b') = y (w \\cdot x + b) + \\eta (x \\cdot x) + \\eta\n",
    "$$\n",
    "\n",
    "new score strictly increases if misclassified.\n",
    "\n",
    "Challenges of perceptron:\n",
    "- **Cannot classify non linearly separable data: Perceptron can only handle linearly separable patterns**"
   ]
  },
  {
   "cell_type": "code",
   "execution_count": 3,
   "id": "c1612459",
   "metadata": {},
   "outputs": [
    {
     "name": "stdout",
     "output_type": "stream",
     "text": [
      "Epoch 1, Sample [0 0], Target 0, Score 0.0, Weights [0. 0.], Bias 0.0\n",
      "Epoch 1, Sample [0 1], Target 0, Score 0.0, Weights [0. 0.], Bias 0.0\n",
      "Epoch 1, Sample [1 0], Target 0, Score 0.0, Weights [0. 0.], Bias 0.0\n",
      "Epoch 1, Sample [1 1], Target 1, Score 0.0, Weights [1. 1.], Bias 1.0\n",
      "Epoch 2, Sample [0 0], Target 0, Score 1.0, Weights [1. 1.], Bias 1.0\n",
      "Epoch 2, Sample [0 1], Target 0, Score 2.0, Weights [1. 1.], Bias 1.0\n",
      "Epoch 2, Sample [1 0], Target 0, Score 2.0, Weights [1. 1.], Bias 1.0\n",
      "Epoch 2, Sample [1 1], Target 1, Score 3.0, Weights [1. 1.], Bias 1.0\n",
      "Epoch 3, Sample [0 0], Target 0, Score 1.0, Weights [1. 1.], Bias 1.0\n",
      "Epoch 3, Sample [0 1], Target 0, Score 2.0, Weights [1. 1.], Bias 1.0\n",
      "Epoch 3, Sample [1 0], Target 0, Score 2.0, Weights [1. 1.], Bias 1.0\n",
      "Epoch 3, Sample [1 1], Target 1, Score 3.0, Weights [1. 1.], Bias 1.0\n",
      "Epoch 4, Sample [0 0], Target 0, Score 1.0, Weights [1. 1.], Bias 1.0\n",
      "Epoch 4, Sample [0 1], Target 0, Score 2.0, Weights [1. 1.], Bias 1.0\n",
      "Epoch 4, Sample [1 0], Target 0, Score 2.0, Weights [1. 1.], Bias 1.0\n",
      "Epoch 4, Sample [1 1], Target 1, Score 3.0, Weights [1. 1.], Bias 1.0\n",
      "Epoch 5, Sample [0 0], Target 0, Score 1.0, Weights [1. 1.], Bias 1.0\n",
      "Epoch 5, Sample [0 1], Target 0, Score 2.0, Weights [1. 1.], Bias 1.0\n",
      "Epoch 5, Sample [1 0], Target 0, Score 2.0, Weights [1. 1.], Bias 1.0\n",
      "Epoch 5, Sample [1 1], Target 1, Score 3.0, Weights [1. 1.], Bias 1.0\n",
      "Epoch 6, Sample [0 0], Target 0, Score 1.0, Weights [1. 1.], Bias 1.0\n",
      "Epoch 6, Sample [0 1], Target 0, Score 2.0, Weights [1. 1.], Bias 1.0\n",
      "Epoch 6, Sample [1 0], Target 0, Score 2.0, Weights [1. 1.], Bias 1.0\n",
      "Epoch 6, Sample [1 1], Target 1, Score 3.0, Weights [1. 1.], Bias 1.0\n",
      "Epoch 7, Sample [0 0], Target 0, Score 1.0, Weights [1. 1.], Bias 1.0\n",
      "Epoch 7, Sample [0 1], Target 0, Score 2.0, Weights [1. 1.], Bias 1.0\n",
      "Epoch 7, Sample [1 0], Target 0, Score 2.0, Weights [1. 1.], Bias 1.0\n",
      "Epoch 7, Sample [1 1], Target 1, Score 3.0, Weights [1. 1.], Bias 1.0\n",
      "Epoch 8, Sample [0 0], Target 0, Score 1.0, Weights [1. 1.], Bias 1.0\n",
      "Epoch 8, Sample [0 1], Target 0, Score 2.0, Weights [1. 1.], Bias 1.0\n",
      "Epoch 8, Sample [1 0], Target 0, Score 2.0, Weights [1. 1.], Bias 1.0\n",
      "Epoch 8, Sample [1 1], Target 1, Score 3.0, Weights [1. 1.], Bias 1.0\n",
      "Epoch 9, Sample [0 0], Target 0, Score 1.0, Weights [1. 1.], Bias 1.0\n",
      "Epoch 9, Sample [0 1], Target 0, Score 2.0, Weights [1. 1.], Bias 1.0\n",
      "Epoch 9, Sample [1 0], Target 0, Score 2.0, Weights [1. 1.], Bias 1.0\n",
      "Epoch 9, Sample [1 1], Target 1, Score 3.0, Weights [1. 1.], Bias 1.0\n",
      "Epoch 10, Sample [0 0], Target 0, Score 1.0, Weights [1. 1.], Bias 1.0\n",
      "Epoch 10, Sample [0 1], Target 0, Score 2.0, Weights [1. 1.], Bias 1.0\n",
      "Epoch 10, Sample [1 0], Target 0, Score 2.0, Weights [1. 1.], Bias 1.0\n",
      "Epoch 10, Sample [1 1], Target 1, Score 3.0, Weights [1. 1.], Bias 1.0\n",
      "Final Weights: [1. 1.], Final Bias: 1.0\n"
     ]
    },
    {
     "data": {
      "image/png": "[encoded data removed]",
      "text/plain": [
       "<Figure size 640x480 with 1 Axes>"
      ]
     },
     "metadata": {},
     "output_type": "display_data"
    }
   ],
   "source": [
    "import numpy as np\n",
    "import matplotlib.pyplot as plt\n",
    "\n",
    "# AND Gate test data\n",
    "X = np.array([\n",
    "[0, 0],\n",
    "[0, 1],\n",
    "[1, 0],\n",
    "[1, 1]\n",
    "])\n",
    "\n",
    "y = np.array([0, 0, 0, 1])  # AND gate output\n",
    "\n",
    "w = np.zeros(X.shape[1] )  # Initialize weights\n",
    "b = 0\n",
    "eta = 1.0\n",
    "epochs = 10\n",
    "errors = []\n",
    "\n",
    "for epoch in range(epochs):\n",
    "    error_count = 0\n",
    "    for xi, target in zip(X,y):\n",
    "        score = np.dot(xi,w)+ b\n",
    "        if target * score <= 0:\n",
    "            w += eta * target * xi\n",
    "            b += eta * target\n",
    "            error_count += 1\n",
    "\n",
    "        print(f'Epoch {epoch+1}, Sample {xi}, Target {target}, Score {score}, Weights {w}, Bias {b}')\n",
    "    errors.append(error_count)\n",
    "\n",
    "\n",
    "print(f'Final Weights: {w}, Final Bias: {b}')\n",
    "\n",
    "\n",
    "plt.plot(errors, marker='o')\n",
    "plt.xlabel('Epochs')\n",
    "plt.ylabel('Number of Misclassifications') \n",
    "plt.title('Perceptron Training Progress')\n",
    "plt.grid(True)\n",
    "plt.show()\n",
    "\n",
    "\n",
    "\n",
    "    \n",
    "    "
   ]
  },
  {
   "cell_type": "markdown",
   "id": "68ab5c60",
   "metadata": {},
   "source": [
    "## Decision Boundary PLot"
   ]
  },
  {
   "cell_type": "code",
   "execution_count": 5,
   "id": "47133f91",
   "metadata": {},
   "outputs": [
    {
     "data": {
      "image/png": "[encoded data removed]",
      "text/plain": [
       "<Figure size 600x600 with 1 Axes>"
      ]
     },
     "metadata": {},
     "output_type": "display_data"
    }
   ],
   "source": [
    "def plot_decision_boundary(X, y, w, b):\n",
    "    plt.figure(figsize=(6, 6))\n",
    "    for xi, yi in zip(X, y):\n",
    "        if yi == 1:\n",
    "            plt.scatter(xi[0], xi[1], color='blue', marker='o', label='Positive' if 'Positive' not in plt.gca().get_legend_handles_labels()[1] else \"\")\n",
    "        else:\n",
    "            plt.scatter(xi[0], xi[1], color='red', marker='x', label='Negative' if 'Negative' not in plt.gca().get_legend_handles_labels()[1] else \"\")\n",
    "    x1 = np.linspace(-0.5, 1.5, 10)\n",
    "    x2 = -(w[0] * x1 + b) / w[1]\n",
    "    plt.plot(x1, x2, 'k--', label='Decision Boundary')\n",
    "    plt.xlim(-0.5, 1.5)\n",
    "    plt.ylim(-0.5, 1.5)\n",
    "    plt.legend()\n",
    "    plt.grid(True)\n",
    "    plt.title('Perceptron Decision Boundary')\n",
    "    plt.show()\n",
    "\n",
    "plot_decision_boundary(X, y, w, b)\n"
   ]
  },
  {
   "cell_type": "code",
   "execution_count": 6,
   "id": "f5fe9fe9",
   "metadata": {},
   "outputs": [
    {
     "name": "stdout",
     "output_type": "stream",
     "text": [
      "Epoch 0, xi=[0.0, 0.0], y=0.0, score=0.00, w=[0.0, 0.0], b=0.0\n",
      "Epoch 0, xi=[0.0, 1.0], y=0.0, score=0.00, w=[0.0, 0.0], b=0.0\n",
      "Epoch 0, xi=[1.0, 0.0], y=0.0, score=0.00, w=[0.0, 0.0], b=0.0\n",
      "Epoch 0, xi=[1.0, 1.0], y=1.0, score=0.00, w=[1.0, 1.0], b=1.0\n",
      "Epoch 1, xi=[0.0, 0.0], y=0.0, score=1.00, w=[1.0, 1.0], b=1.0\n",
      "Epoch 1, xi=[0.0, 1.0], y=0.0, score=2.00, w=[1.0, 1.0], b=1.0\n",
      "Epoch 1, xi=[1.0, 0.0], y=0.0, score=2.00, w=[1.0, 1.0], b=1.0\n",
      "Epoch 1, xi=[1.0, 1.0], y=1.0, score=3.00, w=[1.0, 1.0], b=1.0\n",
      "Epoch 2, xi=[0.0, 0.0], y=0.0, score=1.00, w=[1.0, 1.0], b=1.0\n",
      "Epoch 2, xi=[0.0, 1.0], y=0.0, score=2.00, w=[1.0, 1.0], b=1.0\n",
      "Epoch 2, xi=[1.0, 0.0], y=0.0, score=2.00, w=[1.0, 1.0], b=1.0\n",
      "Epoch 2, xi=[1.0, 1.0], y=1.0, score=3.00, w=[1.0, 1.0], b=1.0\n",
      "Epoch 3, xi=[0.0, 0.0], y=0.0, score=1.00, w=[1.0, 1.0], b=1.0\n",
      "Epoch 3, xi=[0.0, 1.0], y=0.0, score=2.00, w=[1.0, 1.0], b=1.0\n",
      "Epoch 3, xi=[1.0, 0.0], y=0.0, score=2.00, w=[1.0, 1.0], b=1.0\n",
      "Epoch 3, xi=[1.0, 1.0], y=1.0, score=3.00, w=[1.0, 1.0], b=1.0\n",
      "Epoch 4, xi=[0.0, 0.0], y=0.0, score=1.00, w=[1.0, 1.0], b=1.0\n",
      "Epoch 4, xi=[0.0, 1.0], y=0.0, score=2.00, w=[1.0, 1.0], b=1.0\n",
      "Epoch 4, xi=[1.0, 0.0], y=0.0, score=2.00, w=[1.0, 1.0], b=1.0\n",
      "Epoch 4, xi=[1.0, 1.0], y=1.0, score=3.00, w=[1.0, 1.0], b=1.0\n",
      "Epoch 5, xi=[0.0, 0.0], y=0.0, score=1.00, w=[1.0, 1.0], b=1.0\n",
      "Epoch 5, xi=[0.0, 1.0], y=0.0, score=2.00, w=[1.0, 1.0], b=1.0\n",
      "Epoch 5, xi=[1.0, 0.0], y=0.0, score=2.00, w=[1.0, 1.0], b=1.0\n",
      "Epoch 5, xi=[1.0, 1.0], y=1.0, score=3.00, w=[1.0, 1.0], b=1.0\n",
      "Epoch 6, xi=[0.0, 0.0], y=0.0, score=1.00, w=[1.0, 1.0], b=1.0\n",
      "Epoch 6, xi=[0.0, 1.0], y=0.0, score=2.00, w=[1.0, 1.0], b=1.0\n",
      "Epoch 6, xi=[1.0, 0.0], y=0.0, score=2.00, w=[1.0, 1.0], b=1.0\n",
      "Epoch 6, xi=[1.0, 1.0], y=1.0, score=3.00, w=[1.0, 1.0], b=1.0\n",
      "Epoch 7, xi=[0.0, 0.0], y=0.0, score=1.00, w=[1.0, 1.0], b=1.0\n",
      "Epoch 7, xi=[0.0, 1.0], y=0.0, score=2.00, w=[1.0, 1.0], b=1.0\n",
      "Epoch 7, xi=[1.0, 0.0], y=0.0, score=2.00, w=[1.0, 1.0], b=1.0\n",
      "Epoch 7, xi=[1.0, 1.0], y=1.0, score=3.00, w=[1.0, 1.0], b=1.0\n",
      "Epoch 8, xi=[0.0, 0.0], y=0.0, score=1.00, w=[1.0, 1.0], b=1.0\n",
      "Epoch 8, xi=[0.0, 1.0], y=0.0, score=2.00, w=[1.0, 1.0], b=1.0\n",
      "Epoch 8, xi=[1.0, 0.0], y=0.0, score=2.00, w=[1.0, 1.0], b=1.0\n",
      "Epoch 8, xi=[1.0, 1.0], y=1.0, score=3.00, w=[1.0, 1.0], b=1.0\n",
      "Epoch 9, xi=[0.0, 0.0], y=0.0, score=1.00, w=[1.0, 1.0], b=1.0\n",
      "Epoch 9, xi=[0.0, 1.0], y=0.0, score=2.00, w=[1.0, 1.0], b=1.0\n",
      "Epoch 9, xi=[1.0, 0.0], y=0.0, score=2.00, w=[1.0, 1.0], b=1.0\n",
      "Epoch 9, xi=[1.0, 1.0], y=1.0, score=3.00, w=[1.0, 1.0], b=1.0\n",
      "Final weights (PyTorch): tensor([1., 1.])\n",
      "Final bias (PyTorch): tensor([1.])\n"
     ]
    }
   ],
   "source": [
    "import torch\n",
    "\n",
    "X_tensor = torch.tensor(X, dtype=torch.float32)\n",
    "y_tensor = torch.tensor(y, dtype=torch.float32)\n",
    "\n",
    "w_torch = torch.zeros(X.shape[1])\n",
    "b_torch = torch.zeros(1)\n",
    "eta = 1.0\n",
    "epochs = 10\n",
    "\n",
    "for epoch in range(epochs):\n",
    "    for xi, target in zip(X_tensor, y_tensor):\n",
    "        score = torch.dot(xi, w_torch) + b_torch\n",
    "        if target * score <= 0:\n",
    "            w_torch += eta * target * xi\n",
    "            b_torch += eta * target\n",
    "        print(f\"Epoch {epoch}, xi={xi.tolist()}, y={target.item()}, score={score.item():.2f}, w={w_torch.tolist()}, b={b_torch.item()}\")\n",
    "\n",
    "print(\"Final weights (PyTorch):\", w_torch)\n",
    "print(\"Final bias (PyTorch):\", b_torch)\n"
   ]
  }
 ],
 "metadata": {
  "kernelspec": {
   "display_name": ".venv",
   "language": "python",
   "name": "python3"
  },
  "language_info": {
   "codemirror_mode": {
    "name": "ipython",
    "version": 3
   },
   "file_extension": ".py",
   "mimetype": "text/x-python",
   "name": "python",
   "nbconvert_exporter": "python",
   "pygments_lexer": "ipython3",
   "version": "3.11.0"
  }
 },
 "nbformat": 4,
 "nbformat_minor": 5
}
