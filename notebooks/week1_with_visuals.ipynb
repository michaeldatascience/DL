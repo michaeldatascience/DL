{
 "cells": [
  {
   "cell_type": "markdown",
   "id": "59691672",
   "metadata": {},
   "source": [
    "# Week 1: MP Neuron and Perceptron — Full Conceptual and Visual Understanding"
   ]
  },
  {
   "cell_type": "markdown",
   "id": "7fd43a71",
   "metadata": {},
   "source": [
    "## 1. Biological Neuron Inspiration\n",
    "\n",
    "A biological neuron receives signals via dendrites, integrates them in the soma, and fires via the axon if the integrated signal exceeds a threshold.\n",
    "\n",
    "Key points:\n",
    "- Dendrites: Receive signals.\n",
    "- Soma: Integrates signals.\n",
    "- Axon: Sends output.\n",
    "- Fires if the combined input crosses a threshold."
   ]
  },
  {
   "cell_type": "markdown",
   "id": "efcd7523",
   "metadata": {},
   "source": [
    "## 2. McCulloch-Pitts (MP) Neuron Model\n",
    "\n",
    "- Inputs: $x_i \\in \\{0,1\\}$\n",
    "- Output: $y \\in \\{0,1\\}$\n",
    "- Aggregation: $g(x) = \\sum x_i$\n",
    "- Fires if $g(x) \\geq \\theta$\n",
    "\n",
    "Inhibitory inputs:\n",
    "- If any inhibitory input is 1, output forced to 0.\n",
    "\n",
    "We will plot AND, OR, and NOR functions geometrically."
   ]
  },
  {
   "cell_type": "code",
   "execution_count": null,
   "id": "76b199d0",
   "metadata": {},
   "outputs": [],
   "source": [
    "import matplotlib.pyplot as plt\n",
    "import numpy as np\n",
    "\n",
    "# Points for binary inputs\n",
    "X = np.array([[0,0], [0,1], [1,0], [1,1]])\n",
    "\n",
    "fig, axs = plt.subplots(1, 3, figsize=(15, 4))\n",
    "\n",
    "# AND gate\n",
    "axs[0].scatter(X[:,0], X[:,1], c=[0,0,0,1], cmap='coolwarm', s=100)\n",
    "axs[0].plot([0,1],[1,0], 'k--')\n",
    "axs[0].set_title('AND: x1 + x2 >= 2')\n",
    "axs[0].set_xlabel('x1')\n",
    "axs[0].set_ylabel('x2')\n",
    "axs[0].set_xticks([0,1])\n",
    "axs[0].set_yticks([0,1])\n",
    "axs[0].grid(True)\n",
    "\n",
    "# OR gate\n",
    "axs[1].scatter(X[:,0], X[:,1], c=[0,1,1,1], cmap='coolwarm', s=100)\n",
    "axs[1].plot([0,1],[1,0], 'k--')\n",
    "axs[1].set_title('OR: x1 + x2 >= 1')\n",
    "axs[1].set_xticks([0,1])\n",
    "axs[1].set_yticks([0,1])\n",
    "axs[1].grid(True)\n",
    "\n",
    "# NOR gate\n",
    "axs[2].scatter(X[:,0], X[:,1], c=[1,0,0,0], cmap='coolwarm', s=100)\n",
    "axs[2].plot([-0.5,1.5],[1.5,-0.5], 'k--')\n",
    "axs[2].set_title('NOR: x1 + x2 == 0')\n",
    "axs[2].set_xticks([0,1])\n",
    "axs[2].set_yticks([0,1])\n",
    "axs[2].grid(True)\n",
    "\n",
    "plt.tight_layout()\n",
    "plt.show()"
   ]
  },
  {
   "cell_type": "markdown",
   "id": "f885700b",
   "metadata": {},
   "source": [
    "## 3. Boolean Functions and Linearity\n",
    "\n",
    "- MP neuron works only for linearly separable functions.\n",
    "- XOR cannot be solved by a single MP neuron because its classes are not separable by a line."
   ]
  },
  {
   "cell_type": "markdown",
   "id": "e5f86e3e",
   "metadata": {},
   "source": [
    "## 4. Geometric Interpretation\n",
    "\n",
    "- Decision boundary: $w \\cdot x + b = 0$\n",
    "- Weight vector $w$ is perpendicular to this line (or hyperplane in higher dimensions).\n",
    "- Points satisfying $w \\cdot x + b = 0$ lie on the decision boundary.\n",
    "\n",
    "Let's simulate it using code and see how points fall on each side."
   ]
  },
  {
   "cell_type": "code",
   "execution_count": null,
   "id": "54273e6f",
   "metadata": {},
   "outputs": [],
   "source": [
    "import matplotlib.pyplot as plt\n",
    "import numpy as np\n",
    "\n",
    "# Example points\n",
    "X = np.array([[0,0],[0,1],[1,0],[1,1]])\n",
    "y = np.array([0,1,1,1])\n",
    "\n",
    "x_vals = np.linspace(-0.5, 1.5, 100)\n",
    "y_vals = -x_vals + 0.5\n",
    "\n",
    "plt.figure(figsize=(6,6))\n",
    "plt.scatter(X[y==0][:,0], X[y==0][:,1], c='red', label='Class 0')\n",
    "plt.scatter(X[y==1][:,0], X[y==1][:,1], c='blue', label='Class 1')\n",
    "plt.plot(x_vals, y_vals, 'k--', label='Decision Boundary')\n",
    "plt.xlabel('x1')\n",
    "plt.ylabel('x2')\n",
    "plt.legend()\n",
    "plt.title('Example Decision Boundary')\n",
    "plt.grid(True)\n",
    "plt.show()"
   ]
  },
  {
   "cell_type": "markdown",
   "id": "2fb8868a",
   "metadata": {},
   "source": [
    "## 5. Perceptron Model\n",
    "\n",
    "- Inputs: $x \\in \\mathbb{R}^n$ or $\\{0,1\\}^n$\n",
    "- Weights: real-valued and learnable.\n",
    "- Bias: adjusts the decision boundary.\n",
    "\n",
    "Decision function:\n",
    "\n",
    "$$\n",
    "y = \\begin{cases} 1 & w \\cdot x + b \\geq 0 \\\\ 0 & \\text{otherwise} \\end{cases}\n",
    "$$\n",
    "\n",
    "### Update rule when misclassified:\n",
    "\n",
    "$$\n",
    "w \\leftarrow w + \\eta y x, \\quad b \\leftarrow b + \\eta y\n",
    "$$\n",
    "\n",
    "Here, $\\eta$ is learning rate. Geometrically, this shifts the hyperplane to classify the point correctly."
   ]
  },
  {
   "cell_type": "code",
   "execution_count": null,
   "id": "6b578504",
   "metadata": {},
   "outputs": [],
   "source": [
    "import numpy as np\n",
    "\n",
    "X = np.array([[0, 0], [0, 1], [1, 0], [1, 1]])\n",
    "y = np.array([-1, -1, -1, 1])  # AND gate labeling\n",
    "\n",
    "w = np.zeros(2)\n",
    "b = 0\n",
    "eta = 1\n",
    "\n",
    "for epoch in range(10):\n",
    "    for xi, target in zip(X, y):\n",
    "        if target * (np.dot(xi, w) + b) <= 0:\n",
    "            w += eta * target * xi\n",
    "            b += eta * target\n",
    "    print(f\"Epoch {epoch+1}: w = {w}, b = {b}\")\n",
    "\n",
    "print(\"Final weights:\", w)\n",
    "print(\"Final bias:\", b)"
   ]
  },
  {
   "cell_type": "markdown",
   "id": "7302569c",
   "metadata": {},
   "source": [
    "## 6. MP Neuron vs Perceptron Comparison\n",
    "\n",
    "MP neuron:\n",
    "- Uses binary weights, no learning.\n",
    "- Can implement only linearly separable logic functions.\n",
    "\n",
    "Perceptron:\n",
    "- Learns real-valued weights.\n",
    "- Can adjust to data via updates.\n",
    "- Includes bias for flexibility."
   ]
  },
  {
   "cell_type": "markdown",
   "id": "dcbf589a",
   "metadata": {},
   "source": [
    "## 7. Final Revision Points\n",
    "\n",
    "- MP neuron works on fixed logic and threshold sums.\n",
    "- Perceptron learns by updating weights using misclassified samples.\n",
    "- Decision boundary equation: $w \\cdot x + b = 0$.\n",
    "- Weight vector always perpendicular to the hyperplane.\n",
    "- Bias term shifts the hyperplane location."
   ]
  }
 ],
 "metadata": {},
 "nbformat": 4,
 "nbformat_minor": 5
}
