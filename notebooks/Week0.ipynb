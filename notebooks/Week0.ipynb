{
 "cells": [
  {
   "cell_type": "markdown",
   "id": "d37569c9",
   "metadata": {},
   "source": [
    "# 1️⃣ Motivation from Biological Neuron\n",
    "\n",
    "A biological neuron works like a tiny decision unit:\n",
    "\n",
    "- **Inputs** (signals from other neurons) arrive via **dendrites**.\n",
    "- The neuron **sums** these signals inside the **cell body**.\n",
    "- If the sum exceeds a **threshold**, the neuron \"fires\" an output via the **axon**.\n",
    "\n"
   ]
  },
  {
   "cell_type": "markdown",
   "id": "eabb3ed2",
   "metadata": {},
   "source": [
    "Mapping to math\n",
    "Inputs: $x_1, x_2, \\ldots, x_n$\n",
    "\n",
    "Weights: $w_1, w_2, \\ldots, w_n$\n",
    "\n",
    "Sum: $s = \\sum_{i=1}^{n} w_i x_i + b$\n",
    "\n",
    "Activation: Fire if $s$ exceeds threshold\n",
    "\n",
    "Key insight: It reduces to a simple linear combination + threshold check."
   ]
  },
  {
   "cell_type": "markdown",
   "id": "33b2fdd7",
   "metadata": {},
   "source": [
    "# 2️⃣ McCulloch-Pitts Neuron and Threshold Logic\n",
    "\n",
    "Formal neuron model (binary):\n",
    "\n",
    "$$\n",
    "f(x) =\n",
    "\\begin{cases}\n",
    "1 & \\text{if } \\sum w_i x_i + b \\ge 0 \\\\\n",
    "0 & \\text{otherwise}\n",
    "\\end{cases}\n",
    "$$\n"
   ]
  },
  {
   "cell_type": "markdown",
   "id": "840b08d2",
   "metadata": {},
   "source": [
    "# 3️⃣ Perceptron Model\n",
    "\n",
    "Generalization for real-valued inputs:\n",
    "\n",
    "$$\n",
    "y = \\text{sign}(w \\cdot x + b)\n",
    "$$\n",
    "\n",
    "- $w$: weight vector\n",
    "- $x$: input vector\n",
    "- $b$: bias\n",
    "- Output: $+1$ or $-1$\n",
    "\n",
    "---\n",
    "\n",
    "## Geometric intuition\n",
    "\n",
    "The equation $w \\cdot x + b = 0$ defines a **hyperplane** (line in 2D, plane in 3D, etc.) separating space into two halves.\n",
    "\n",
    "\n"
   ]
  },
  {
   "cell_type": "markdown",
   "id": "366584ad",
   "metadata": {},
   "source": [
    "# 4️⃣ Error Function and Error Surface\n",
    "\n",
    "For a misclassified sample:\n",
    "\n",
    "$$\n",
    "E = -y (w \\cdot x + b)\n",
    "$$\n",
    "\n",
    "- If $y(w \\cdot x + b) > 0$ → correctly classified → no error.\n",
    "- If $y(w \\cdot x + b) \\leq 0$ → misclassified → error is positive.\n",
    "\n",
    "---\n",
    "\n",
    "\n",
    "## Error surface shape\n",
    "\n",
    "- Piecewise linear\n",
    "- No smooth gradient information (just \"yes/no\" corrections)\n",
    "\n"
   ]
  },
  {
   "cell_type": "markdown",
   "id": "fb952b38",
   "metadata": {},
   "source": [
    "# 5️⃣ Perceptron Learning Algorithm\n",
    "\n",
    "**Update rule** for a misclassified point $(x, y)$:\n",
    "\n",
    "$$\n",
    "w \\leftarrow w + \\eta \\, y \\, x\n",
    "$$\n",
    "$$\n",
    "b \\leftarrow b + \\eta \\, y\n",
    "$$\n",
    "\n",
    "- $\\eta$: learning rate (usually 1)\n",
    "- $y$: true label ($+1$ or $-1$)\n",
    "\n",
    "---\n",
    "\n",
    "## Step-by-step\n",
    "\n",
    "1️⃣ Check if point is misclassified.  \n",
    "2️⃣ If so, \"nudge\" weights and bias to move the hyperplane toward correctly classifying that point.  \n",
    "3️⃣ Repeat for all points until no misclassification.\n",
    "\n",
    "---\n",
    "\n",
    "## Programming analogy\n",
    "\n",
    "Update logic resembles classic `if error: correct weights` loop.\n",
    "\n",
    "---\n",
    "\n",
    "## Caveat\n",
    "\n",
    "If data is **not linearly separable**, perceptron never stops updating!\n"
   ]
  },
  {
   "cell_type": "markdown",
   "id": "4256fa0b",
   "metadata": {},
   "source": [
    "# 6️⃣ Proof of Convergence (Sketch)\n",
    "\n",
    "If data is linearly separable:\n",
    "\n",
    "- There exists a perfect hyperplane with margin $\\gamma$.\n",
    "- Each update reduces error and increases \"alignment\" with true separator.\n",
    "\n",
    "---\n",
    "\n",
    "## Key quantities\n",
    "\n",
    "- $R$: maximum norm of input vectors.\n",
    "- $\\gamma$: margin (minimum distance of any point to the hyperplane).\n",
    "\n",
    "---\n",
    "\n",
    "## Bound on updates\n",
    "\n",
    "$$\n",
    "\\text{Max updates} \\leq \\left(\\frac{R}{\\gamma}\\right)^2\n",
    "$$\n",
    "\n",
    "---\n",
    "\n",
    "## Intuitive reasoning\n",
    "\n",
    "Weights keep improving the correct side until no misclassified points remain → algorithm halts in finite time.\n",
    "\n",
    "---\n",
    "\n",
    "## Caveat\n",
    "\n",
    "When data is **not separable**, perceptron cycles indefinitely.\n"
   ]
  },
  {
   "cell_type": "markdown",
   "id": "643fa8c9",
   "metadata": {},
   "source": [
    "# 7️⃣ Linearly Separable Functions\n",
    "\n",
    "**Examples:**\n",
    "\n",
    "- AND and OR → linearly separable.\n",
    "- XOR → **not** linearly separable.\n",
    "\n",
    "---\n",
    "\n",
    "## Visual intuition\n",
    "\n",
    "- AND: single diagonal line can separate.\n",
    "- XOR: requires two lines → needs additional layer.\n",
    "\n",
    "---\n",
    "\n",
    "## Takeaway\n",
    "\n",
    "Single-layer perceptron cannot solve XOR or similar problems → leads to multilayer networks (basis of deep learning).\n"
   ]
  },
  {
   "cell_type": "markdown",
   "id": "cf8af51b",
   "metadata": {},
   "source": [
    "# 8️⃣ Representation Power\n",
    "\n",
    "- Single perceptron: only linear decision boundaries.\n",
    "- Network of perceptrons (MLPs): can approximate any continuous function on compact sets (Universal Approximation Theorem).\n",
    "\n",
    "---\n",
    "\n",
    "## Programming analogy\n",
    "\n",
    "Single perceptron = simple if-check.  \n",
    "MLP = chain of logic checks, forming complex decisions.\n",
    "\n",
    "---\n",
    "\n",
    "## Important\n",
    "\n",
    "Hidden layers introduce **non-linear activations**, allowing \"curved\" decision boundaries.\n"
   ]
  },
  {
   "cell_type": "code",
   "execution_count": 1,
   "id": "ea06e8b6",
   "metadata": {},
   "outputs": [
    {
     "name": "stdout",
     "output_type": "stream",
     "text": [
      "Final weights: [3. 2.]\n",
      "Final bias: -4.0\n"
     ]
    },
    {
     "data": {
      "image/png": "[encoded data removed]",
      "text/plain": [
       "<Figure size 640x480 with 1 Axes>"
      ]
     },
     "metadata": {},
     "output_type": "display_data"
    }
   ],
   "source": [
    "import numpy as np\n",
    "import matplotlib.pyplot as plt\n",
    "\n",
    "# Data for AND gate\n",
    "X = np.array([\n",
    "    [0, 0],\n",
    "    [0, 1],\n",
    "    [1, 0],\n",
    "    [1, 1]\n",
    "])\n",
    "y = np.array([-1, -1, -1, 1])  # Only (1,1) is +1\n",
    "\n",
    "# Initialize weights and bias\n",
    "w = np.zeros(X.shape[1])\n",
    "b = 0\n",
    "eta = 1.0\n",
    "epochs = 10\n",
    "errors = []\n",
    "\n",
    "for epoch in range(epochs):\n",
    "    error_count = 0\n",
    "    for xi, target in zip(X, y):\n",
    "        condition = target * (np.dot(xi, w) + b)\n",
    "        if condition <= 0:\n",
    "            w += eta * target * xi\n",
    "            b += eta * target\n",
    "            error_count += 1\n",
    "    errors.append(error_count)\n",
    "\n",
    "print(\"Final weights:\", w)\n",
    "print(\"Final bias:\", b)\n",
    "\n",
    "plt.plot(errors, marker='o')\n",
    "plt.xlabel('Epoch')\n",
    "plt.ylabel('Number of Misclassifications')\n",
    "plt.title('Perceptron Training Progress')\n",
    "plt.grid(True)\n",
    "plt.show()\n"
   ]
  }
 ],
 "metadata": {
  "kernelspec": {
   "display_name": ".venv",
   "language": "python",
   "name": "python3"
  },
  "language_info": {
   "codemirror_mode": {
    "name": "ipython",
    "version": 3
   },
   "file_extension": ".py",
   "mimetype": "text/x-python",
   "name": "python",
   "nbconvert_exporter": "python",
   "pygments_lexer": "ipython3",
   "version": "3.11.0"
  }
 },
 "nbformat": 4,
 "nbformat_minor": 5
}
