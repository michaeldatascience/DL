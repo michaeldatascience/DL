{
 "cells": [
  {
   "cell_type": "code",
   "execution_count": 1,
   "id": "08c4f248",
   "metadata": {},
   "outputs": [],
   "source": [
    "import numpy as np"
   ]
  },
  {
   "cell_type": "code",
   "execution_count": 2,
   "id": "20d12d2c",
   "metadata": {},
   "outputs": [],
   "source": [
    "# Data Initialization\n",
    "\n",
    "W1 = np.array([\n",
    "    [0.54881350, 0.71518937, 0.60276338],\n",
    "    [0.54488318, 0.42365480, 0.64589411],\n",
    "    [0.43758721, 0.89177300, 0.96366276]\n",
    "])\n",
    "b1 = np.array([0.38344152, 0.79172504, 0.52889492])\n",
    "\n",
    "W2 = np.array([\n",
    "    [0.56804456, 0.92559664, 0.07103606],\n",
    "    [0.08712930, 0.02021840, 0.83261985],\n",
    "    [0.77815675, 0.87001215, 0.97861834]\n",
    "])\n",
    "b2 = np.array([0.79915856, 0.46147936, 0.78052918])\n",
    "\n",
    "W3 = np.array([\n",
    "    [0.11827443, 0.63992102, 0.14335329],\n",
    "    [0.94466892, 0.52184832, 0.41466194],\n",
    "    [0.26455561, 0.77423369, 0.45615033]\n",
    "])\n",
    "b3 = np.array([0.56843395, 0.01878980, 0.61763550])\n",
    "\n",
    "x = np.array([1, 0, 1])\n",
    "y = np.array([0, 0, 1])"
   ]
  },
  {
   "cell_type": "code",
   "execution_count": 3,
   "id": "45be72a5",
   "metadata": {},
   "outputs": [],
   "source": [
    "# Activations\n",
    "\n",
    "sigmoid = lambda z: 1 / (1 + np.exp(-z))\n",
    "softmax = lambda z: np.exp(z) / np.sum(np.exp(z))"
   ]
  },
  {
   "cell_type": "code",
   "execution_count": 4,
   "id": "4cc68d99",
   "metadata": {},
   "outputs": [],
   "source": [
    "# Forward Pass\n",
    "\n",
    "a1 = W1.dot(x) + b1\n",
    "h1 = sigmoid(a1)\n",
    "\n",
    "a2 = W2.dot(h1) + b2\n",
    "h2 = sigmoid(a2)\n",
    "\n",
    "a3 = W3.dot(h2) + b3\n",
    "y_hat = softmax(a3)"
   ]
  },
  {
   "cell_type": "code",
   "execution_count": 5,
   "id": "fafa82eb",
   "metadata": {},
   "outputs": [],
   "source": [
    "# Compute loss\n",
    "loss = -np.sum(y * np.log(y_hat))"
   ]
  },
  {
   "cell_type": "code",
   "execution_count": 6,
   "id": "5d0beeda",
   "metadata": {},
   "outputs": [],
   "source": [
    "# Gradients\n",
    "\n",
    "grad_a3 = y_hat - y"
   ]
  },
  {
   "cell_type": "code",
   "execution_count": 7,
   "id": "877ee297",
   "metadata": {},
   "outputs": [],
   "source": [
    "# Backprop to b2\n",
    "W3_T = W3.T\n",
    "delta2 = (W3_T.dot(grad_a3)) * h2 * (1 - h2)\n",
    "grad_b2 = delta2"
   ]
  },
  {
   "cell_type": "code",
   "execution_count": 8,
   "id": "6237189b",
   "metadata": {},
   "outputs": [],
   "source": [
    "# Update parameters\n",
    "eta = 1\n",
    "b2_new = b2 - eta * grad_b2\n"
   ]
  },
  {
   "cell_type": "code",
   "execution_count": 9,
   "id": "b7ac647c",
   "metadata": {},
   "outputs": [],
   "source": [
    "# Recompute loss after update\n",
    "\n",
    "a2_new = W2.dot(h1) + b2_new\n",
    "h2_new = sigmoid(a2_new)\n",
    "a3_new = W3.dot(h2_new) + b3\n",
    "y_hat_new = softmax(a3_new)\n",
    "loss_new = -np.sum(y * np.log(y_hat_new))\n"
   ]
  },
  {
   "cell_type": "code",
   "execution_count": null,
   "id": "94cf46c6",
   "metadata": {},
   "outputs": [
    {
     "name": "stdout",
     "output_type": "stream",
     "text": [
      "\n",
      "=== Answers ===\n",
      "Q1) Total parameters = 36\n",
      "Q2) Sum(a1) ≈ 5.45\n",
      "Q3) Sum(h1) ≈ 2.57\n",
      "Q4) Loss ≈ 0.856379\n",
      "Q5) Gradient wrt a3 = [ 0.23691422  0.33838847 -0.57530269]\n",
      "Grad b2 = [ 0.01838198 -0.01997644 -0.0038401 ]\n",
      "New loss after parameter update ≈ 0.855627\n",
      "\n",
      "=== Multiple Choice Recap ===\n",
      "1) Total params = 36\n",
      "2) Sum(a1) ≈ 5.44\n",
      "3) Sum(h1) ≈ 2.57\n",
      "4) Loss ≈ 0.8563785642771483\n",
      "5) grad_a3 matches [0.23, 0.33, -0.57]\n"
     ]
    }
   ],
   "source": [
    "num_params = W1.size + b1.size + W2.size + b2.size + W3.size + b3.size\n",
    "sum_a1 = a1.sum()\n",
    "sum_h1 = h1.sum()\n",
    "sum_a2 = a2.sum()\n",
    "sum_h2 = h2.sum()\n",
    "sum_a3 = a3.sum()\n"
   ]
  }
 ],
 "metadata": {
  "kernelspec": {
   "display_name": ".venv",
   "language": "python",
   "name": "python3"
  },
  "language_info": {
   "codemirror_mode": {
    "name": "ipython",
    "version": 3
   },
   "file_extension": ".py",
   "mimetype": "text/x-python",
   "name": "python",
   "nbconvert_exporter": "python",
   "pygments_lexer": "ipython3",
   "version": "3.11.0"
  }
 },
 "nbformat": 4,
 "nbformat_minor": 5
}
